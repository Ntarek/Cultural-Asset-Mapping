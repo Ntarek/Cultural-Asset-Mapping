{
  "nbformat": 4,
  "nbformat_minor": 0,
  "metadata": {
    "colab": {
      "provenance": []
    },
    "kernelspec": {
      "name": "python3",
      "display_name": "Python 3"
    },
    "language_info": {
      "name": "python"
    }
  },
  "cells": [
    {
      "cell_type": "code",
      "source": [
        "from google.colab import drive\n",
        "drive.mount('/content/drive')"
      ],
      "metadata": {
        "colab": {
          "base_uri": "https://localhost:8080/"
        },
        "id": "BSjktVOx2Q_h",
        "outputId": "d10f9f9e-0758-4e1c-ffb8-f712f68bb674"
      },
      "execution_count": 2,
      "outputs": [
        {
          "output_type": "stream",
          "name": "stdout",
          "text": [
            "Mounted at /content/drive\n"
          ]
        }
      ]
    },
    {
      "cell_type": "code",
      "execution_count": 3,
      "metadata": {
        "colab": {
          "base_uri": "https://localhost:8080/"
        },
        "id": "oZl-6ZXM2K9l",
        "outputId": "3ee533db-57b2-4098-80f7-4d5e4d17f462"
      },
      "outputs": [
        {
          "output_type": "stream",
          "name": "stdout",
          "text": [
            "Filtered dataset saved as CSV: la_street_art_filtered.csv\n",
            "Number of filtered results: 84\n",
            "                                name artwork_type        lat         lon\n",
            "23         Smile South Central Mural        mural  33.993036 -118.320270\n",
            "28           LA River - Valley Biome        mural  34.186937 -118.604060\n",
            "29     LA River - Connect the Valley        mural  34.187078 -118.603778\n",
            "36                           Unknown        mural  34.211964 -118.448931\n",
            "37  Elliot Smith \"Figure 8\" Memorial        mural  34.095182 -118.283681\n"
          ]
        }
      ],
      "source": [
        "import requests\n",
        "import geopandas as gpd\n",
        "import pandas as pd\n",
        "\n",
        "# Define broader Overpass API query: all artworks in Los Angeles\n",
        "query = \"\"\"\n",
        "[out:json][timeout:60];\n",
        "area[\"name\"=\"Los Angeles\"]->.searchArea;\n",
        "(\n",
        "  node[\"tourism\"=\"artwork\"](area.searchArea);\n",
        "  way[\"tourism\"=\"artwork\"](area.searchArea);\n",
        "  relation[\"tourism\"=\"artwork\"](area.searchArea);\n",
        ");\n",
        "out center;\n",
        "\"\"\"\n",
        "\n",
        "# Overpass API URL\n",
        "url = \"http://overpass-api.de/api/interpreter\"\n",
        "\n",
        "# Request data\n",
        "response = requests.get(url, params={'data': query})\n",
        "\n",
        "if response.status_code == 200:\n",
        "    data = response.json()\n",
        "\n",
        "    if 'remark' in data:\n",
        "        print(f\"Overpass API Error: {data['remark']}\")\n",
        "    else:\n",
        "        elements = data.get(\"elements\", [])\n",
        "        locations = []\n",
        "\n",
        "        for element in elements:\n",
        "            tags = element.get(\"tags\", {})\n",
        "            lat = element.get(\"lat\", element.get(\"center\", {}).get(\"lat\"))\n",
        "            lon = element.get(\"lon\", element.get(\"center\", {}).get(\"lon\"))\n",
        "\n",
        "            if lat and lon:\n",
        "                locations.append({\n",
        "                    \"id\": element.get(\"id\"),\n",
        "                    \"name\": tags.get(\"name\", \"Unknown\"),\n",
        "                    \"artwork_type\": tags.get(\"artwork_type\", \"\"),\n",
        "                    \"description\": tags.get(\"description\", \"\"),\n",
        "                    \"lat\": lat,\n",
        "                    \"lon\": lon\n",
        "                })\n",
        "\n",
        "        # Convert to DataFrame\n",
        "        df = pd.DataFrame(locations)\n",
        "\n",
        "        if df.empty:\n",
        "            print(\"No artwork locations found.\")\n",
        "        else:\n",
        "            # Combine fields for filtering\n",
        "            df[\"combined_tags\"] = (\n",
        "                df[\"name\"].fillna('') + \" \" +\n",
        "                df[\"artwork_type\"].fillna('') + \" \" +\n",
        "                df[\"description\"].fillna('')\n",
        "            )\n",
        "\n",
        "            # Filter for relevant artwork types\n",
        "            keywords = \"mural|graffiti|stencil|streetart|street_art|street art\"\n",
        "            filtered_df = df[df[\"combined_tags\"].str.contains(keywords, case=False, na=False)].copy()\n",
        "\n",
        "            if filtered_df.empty:\n",
        "                print(\"No murals or related artwork types found after filtering.\")\n",
        "            else:\n",
        "                # Convert to GeoDataFrame\n",
        "                gdf = gpd.GeoDataFrame(\n",
        "                    filtered_df,\n",
        "                    geometry=gpd.points_from_xy(filtered_df[\"lon\"], filtered_df[\"lat\"]),\n",
        "                    crs=\"EPSG:4326\"\n",
        "                )\n",
        "\n",
        "                # Save to CSV\n",
        "                gdf.to_csv(\"la_street_art_filtered.csv\", index=False)\n",
        "                print(f\"Filtered dataset saved as CSV: la_street_art_filtered.csv\")\n",
        "                print(f\"Number of filtered results: {len(gdf)}\")\n",
        "                print(gdf[[\"name\", \"artwork_type\", \"lat\", \"lon\"]].head())\n",
        "\n",
        "else:\n",
        "    print(f\"Error fetching data from Overpass API. Status code: {response.status_code}\")\n",
        "    print(f\"Response content: {response.text}\")\n"
      ]
    },
    {
      "cell_type": "code",
      "source": [
        "gdf.to_csv(\"/content/drive/My Drive/Colab Notebooks/la_street_art_filtered.csv\", index=False)\n"
      ],
      "metadata": {
        "id": "tPuJKHGM2ObS"
      },
      "execution_count": 4,
      "outputs": []
    }
  ]
}